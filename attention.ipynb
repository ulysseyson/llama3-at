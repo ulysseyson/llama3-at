{
 "cells": [
  {
   "cell_type": "code",
   "execution_count": 28,
   "metadata": {},
   "outputs": [],
   "source": [
    "import numpy as np\n",
    "import matplotlib.pyplot as plt\n",
    "import pandas as pd\n",
    "from llama.tokenizer import ChatFormat, Tokenizer\n",
    "from llama.dialogs import SYSTEM"
   ]
  },
  {
   "cell_type": "code",
   "execution_count": 29,
   "metadata": {},
   "outputs": [],
   "source": [
    "tokenizer = Tokenizer(\n",
    "    \"/home/ulyss/workspace/LLM_Vul/Meta-Llama-3-8B-Instruct/tokenizer.model\"\n",
    ")\n",
    "formatter = ChatFormat(tokenizer=tokenizer)"
   ]
  },
  {
   "cell_type": "code",
   "execution_count": 30,
   "metadata": {},
   "outputs": [
    {
     "name": "stdout",
     "output_type": "stream",
     "text": [
      "29\n"
     ]
    }
   ],
   "source": [
    "system_dialog = [{\n",
    "    \"role\": \"system\",\n",
    "    \"content\": SYSTEM\n",
    "}]\n",
    "dialog_tokens = formatter.encode_dialog_prompt(system_dialog)\n",
    "print(len(dialog_tokens))"
   ]
  },
  {
   "cell_type": "code",
   "execution_count": 31,
   "metadata": {},
   "outputs": [],
   "source": [
    "# system prompt token index are [4:len(dialog_tokens)-4]"
   ]
  },
  {
   "cell_type": "code",
   "execution_count": 32,
   "metadata": {},
   "outputs": [
    {
     "name": "stdout",
     "output_type": "stream",
     "text": [
      "<|begin_of_text|>\n",
      "---\n",
      "<|start_header_id|>\n",
      "---\n",
      "system\n",
      "---\n",
      "<|end_header_id|>\n",
      "---\n",
      "\n",
      "\n",
      "\n",
      "---\n",
      "You\n",
      "---\n",
      " are\n",
      "---\n",
      " a\n",
      "---\n",
      " Chat\n",
      "---\n",
      "bot\n",
      "---\n",
      " that\n",
      "---\n",
      " shows\n",
      "---\n",
      " cooking\n",
      "---\n",
      " rece\n",
      "---\n",
      "pies\n",
      "---\n",
      " about\n",
      "---\n",
      " the\n",
      "---\n",
      " given\n",
      "---\n",
      " user\n",
      "---\n",
      " input\n",
      "---\n",
      " explaining\n",
      "---\n",
      " a\n",
      "---\n",
      " certain\n",
      "---\n",
      " food\n",
      "---\n",
      "<|eot_id|>\n",
      "---\n",
      "<|start_header_id|>\n",
      "---\n",
      "assistant\n",
      "---\n",
      "<|end_header_id|>\n",
      "---\n",
      "\n",
      "\n",
      "\n",
      "---\n"
     ]
    }
   ],
   "source": [
    "for dialog_token in dialog_tokens:\n",
    "    print(tokenizer.decode([dialog_token]))\n",
    "    print(\"---\")"
   ]
  },
  {
   "cell_type": "code",
   "execution_count": 33,
   "metadata": {},
   "outputs": [],
   "source": [
    "pi_csv_list = [\"./att/pi/first_layer_attention_pi_0.csv\", \"./att/pi/first_layer_attention_pi_1.csv\", \"./att/pi/first_layer_attention_pi_2.csv\", ]\n",
    "benign_csv_list = [\n",
    "    \"./att/benign/first_layer_attention_benign_0.csv\",\n",
    "    \"./att/benign/first_layer_attention_benign_1.csv\", \n",
    "    \"./att/benign/first_layer_attention_benign_2.csv\",\n",
    "    \"./att/benign/first_layer_attention_benign_3.csv\",\n",
    "    \"./att/benign/first_layer_attention_benign_4.csv\",\n",
    "    \"./att/benign/first_layer_attention_benign_5.csv\",\n",
    "    ]"
   ]
  },
  {
   "cell_type": "code",
   "execution_count": 34,
   "metadata": {},
   "outputs": [],
   "source": [
    "STEP = 3"
   ]
  },
  {
   "cell_type": "code",
   "execution_count": 35,
   "metadata": {},
   "outputs": [
    {
     "data": {
      "text/plain": [
       "[0.0659825180143052, 0.08414291744448994, 0.12520789965268972]"
      ]
     },
     "execution_count": 35,
     "metadata": {},
     "output_type": "execute_result"
    }
   ],
   "source": [
    "pi_att = []\n",
    "for i, csv_file in enumerate(pi_csv_list):\n",
    "    pi_df = pd.read_csv(csv_file)\n",
    "    # print(pi_df.head())\n",
    "    pi_df_step = pi_df[pi_df[\"step\"] == STEP]\n",
    "    mean_att = []\n",
    "    for j in range(32):\n",
    "        a = eval(pi_df_step.iloc[0][f\"head_{j}\"])\n",
    "        mean_att.append(a)\n",
    "    mean_att = np.array(mean_att)\n",
    "    mean_att = mean_att.mean(axis=0)\n",
    "    # print(mean_att)\n",
    "    pi_att.append(np.sum(mean_att[4:len(dialog_tokens)-4]))\n",
    "    \n",
    "pi_att"
   ]
  },
  {
   "cell_type": "code",
   "execution_count": 36,
   "metadata": {},
   "outputs": [
    {
     "data": {
      "text/plain": [
       "[0.134567799310172,\n",
       " 0.11269136609484195,\n",
       " 0.12865215123708834,\n",
       " 0.09706293405987435,\n",
       " 0.05972196521378754,\n",
       " 0.06350218375179639]"
      ]
     },
     "execution_count": 36,
     "metadata": {},
     "output_type": "execute_result"
    }
   ],
   "source": [
    "benign_att = []\n",
    "for i, csv_file in enumerate(benign_csv_list):\n",
    "    benign_df = pd.read_csv(csv_file)\n",
    "    # print(benign_df.head())\n",
    "    benign_df_step = benign_df[benign_df[\"step\"] == STEP]\n",
    "    mean_att = []\n",
    "    for j in range(32):\n",
    "        a = eval(benign_df_step.iloc[0][f\"head_{j}\"])\n",
    "        mean_att.append(a)\n",
    "    mean_att = np.array(mean_att)\n",
    "    mean_att = mean_att.mean(axis=0)\n",
    "    # print(mean_att)\n",
    "    benign_att.append(np.sum(mean_att[4:len(dialog_tokens)-4]))\n",
    "\n",
    "benign_att"
   ]
  },
  {
   "cell_type": "code",
   "execution_count": 37,
   "metadata": {},
   "outputs": [
    {
     "data": {
      "image/png": "[encoded data removed]",
      "text/plain": [
       "<Figure size 640x480 with 1 Axes>"
      ]
     },
     "metadata": {},
     "output_type": "display_data"
    }
   ],
   "source": [
    "# boxplot\n",
    "fig = plt.figure()\n",
    "ax = fig.add_subplot(111)\n",
    "ax.boxplot([pi_att, benign_att], labels=[\"pi\", \"benign\"])\n",
    "plt.show()"
   ]
  },
  {
   "cell_type": "code",
   "execution_count": null,
   "metadata": {},
   "outputs": [],
   "source": []
  }
 ],
 "metadata": {
  "kernelspec": {
   "display_name": "base",
   "language": "python",
   "name": "python3"
  },
  "language_info": {
   "codemirror_mode": {
    "name": "ipython",
    "version": 3
   },
   "file_extension": ".py",
   "mimetype": "text/x-python",
   "name": "python",
   "nbconvert_exporter": "python",
   "pygments_lexer": "ipython3",
   "version": "3.10.11"
  }
 },
 "nbformat": 4,
 "nbformat_minor": 2
}
